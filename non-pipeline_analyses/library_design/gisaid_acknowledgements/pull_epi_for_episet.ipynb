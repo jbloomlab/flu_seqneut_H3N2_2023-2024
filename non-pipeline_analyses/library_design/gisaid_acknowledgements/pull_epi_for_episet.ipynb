{
 "cells": [
  {
   "cell_type": "markdown",
   "id": "acccf498-9ec0-4253-b0fa-d55ce785eed1",
   "metadata": {},
   "source": [
    "# Pull EPI ISL identifiers for all sequences used in library design and MLR analysis\n",
    "We need to generate an EPISET identifier to properly acknowledge all the contributing authors who deposited the sequences we used in our analysis. I'll scrape those together here from across non-pipeline analyses notebooks. I can then generate a unique DOI for the sequences per the instructions here: [https://gisaid.org/episet/](https://gisaid.org/episet/)\n",
    "\n",
    "Author: Caroline Kikawa"
   ]
  },
  {
   "cell_type": "code",
   "execution_count": 1,
   "id": "68d759e1-0a8b-415b-af3b-4ac34f12e51f",
   "metadata": {},
   "outputs": [],
   "source": [
    "import os\n",
    "import pandas as pd"
   ]
  },
  {
   "cell_type": "code",
   "execution_count": 36,
   "id": "f5c1ab87-e608-4de7-83ae-7ebeee3fb3b3",
   "metadata": {},
   "outputs": [
    {
     "data": {
      "text/html": [
       "<div>\n",
       "<style scoped>\n",
       "    .dataframe tbody tr th:only-of-type {\n",
       "        vertical-align: middle;\n",
       "    }\n",
       "\n",
       "    .dataframe tbody tr th {\n",
       "        vertical-align: top;\n",
       "    }\n",
       "\n",
       "    .dataframe thead th {\n",
       "        text-align: right;\n",
       "    }\n",
       "</style>\n",
       "<table border=\"1\" class=\"dataframe\">\n",
       "  <thead>\n",
       "    <tr style=\"text-align: right;\">\n",
       "      <th></th>\n",
       "      <th>epi</th>\n",
       "    </tr>\n",
       "  </thead>\n",
       "  <tbody>\n",
       "    <tr>\n",
       "      <th>0</th>\n",
       "      <td>EPI_ISL_18108949</td>\n",
       "    </tr>\n",
       "    <tr>\n",
       "      <th>1</th>\n",
       "      <td>EPI_ISL_18303933</td>\n",
       "    </tr>\n",
       "    <tr>\n",
       "      <th>2</th>\n",
       "      <td>EPI_ISL_18374389</td>\n",
       "    </tr>\n",
       "    <tr>\n",
       "      <th>3</th>\n",
       "      <td>EPI_ISL_17391841</td>\n",
       "    </tr>\n",
       "    <tr>\n",
       "      <th>4</th>\n",
       "      <td>EPI_ISL_18108925</td>\n",
       "    </tr>\n",
       "    <tr>\n",
       "      <th>...</th>\n",
       "      <td>...</td>\n",
       "    </tr>\n",
       "    <tr>\n",
       "      <th>12</th>\n",
       "      <td>EPI_ISL_944639</td>\n",
       "    </tr>\n",
       "    <tr>\n",
       "      <th>13</th>\n",
       "      <td>EPI_ISL_3534319</td>\n",
       "    </tr>\n",
       "    <tr>\n",
       "      <th>14</th>\n",
       "      <td>EPI_ISL_806547</td>\n",
       "    </tr>\n",
       "    <tr>\n",
       "      <th>15</th>\n",
       "      <td>EPI_ISL_2233240</td>\n",
       "    </tr>\n",
       "    <tr>\n",
       "      <th>16</th>\n",
       "      <td>EPI_ISL_16014504</td>\n",
       "    </tr>\n",
       "  </tbody>\n",
       "</table>\n",
       "<p>79 rows × 1 columns</p>\n",
       "</div>"
      ],
      "text/plain": [
       "                 epi\n",
       "0   EPI_ISL_18108949\n",
       "1   EPI_ISL_18303933\n",
       "2   EPI_ISL_18374389\n",
       "3   EPI_ISL_17391841\n",
       "4   EPI_ISL_18108925\n",
       "..               ...\n",
       "12    EPI_ISL_944639\n",
       "13   EPI_ISL_3534319\n",
       "14    EPI_ISL_806547\n",
       "15   EPI_ISL_2233240\n",
       "16  EPI_ISL_16014504\n",
       "\n",
       "[79 rows x 1 columns]"
      ]
     },
     "execution_count": 36,
     "metadata": {},
     "output_type": "execute_result"
    }
   ],
   "source": [
    "library_strains = []\n",
    "\n",
    "library_epi = pd.concat(\n",
    "    [\n",
    "        pd.read_csv('../../nextstrain_tree_build/data/download/library_ha_accessions.csv', names = ['epi']), # 2023-circulating strains\n",
    "        pd.read_csv('../data/gisaid_query/vaccine_accession_numbers.csv', names = ['epi']) # Vaccine strains\n",
    "    ]\n",
    ")\n"
   ]
  },
  {
   "cell_type": "code",
   "execution_count": 37,
   "id": "e25d9a67-6694-4d3d-8a00-0fa5c3e527be",
   "metadata": {},
   "outputs": [],
   "source": [
    "mlr_strains = []\n",
    "\n",
    "gisaid_fasta = '../../../../flu_H3_2023_seqneut_vs_growth/data/gisaid_flu_h3_prots.fa'\n",
    "\n",
    "with open(gisaid_fasta) as f:\n",
    "    for line in f:\n",
    "        if '>' in line:\n",
    "            line = line.strip('>')\n",
    "            epi = (line.split('|'))[0]\n",
    "            strain_name = (line.split('|'))[1]\n",
    "\n",
    "            mlr_strains.append([epi, strain_name])\n",
    "\n",
    "mlr_epi = pd.DataFrame(mlr_strains, columns = ['epi', 'name'])"
   ]
  },
  {
   "cell_type": "code",
   "execution_count": 39,
   "id": "31d6fa00-0158-428a-a945-05367c97df58",
   "metadata": {},
   "outputs": [],
   "source": [
    "all_epi = pd.concat(\n",
    "    [\n",
    "        library_epi,\n",
    "        mlr_epi[['epi']]\n",
    "    ]\n",
    ")\n",
    "\n",
    "all_epi.to_csv('epi_for_episet.csv', header=False, index=False)"
   ]
  },
  {
   "cell_type": "code",
   "execution_count": null,
   "id": "49990f8c-5201-48b6-b703-9146c1e5292e",
   "metadata": {},
   "outputs": [],
   "source": []
  }
 ],
 "metadata": {
  "kernelspec": {
   "display_name": "Python 3 (ipykernel)",
   "language": "python",
   "name": "python3"
  },
  "language_info": {
   "codemirror_mode": {
    "name": "ipython",
    "version": 3
   },
   "file_extension": ".py",
   "mimetype": "text/x-python",
   "name": "python",
   "nbconvert_exporter": "python",
   "pygments_lexer": "ipython3",
   "version": "3.13.1"
  }
 },
 "nbformat": 4,
 "nbformat_minor": 5
}
